{
 "cells": [
  {
   "cell_type": "code",
   "execution_count": 1,
   "metadata": {},
   "outputs": [],
   "source": [
    "from processing import load_dataset, unique_item_name"
   ]
  },
  {
   "cell_type": "code",
   "execution_count": 2,
   "metadata": {},
   "outputs": [],
   "source": [
    "train_data_name = 'data/data_fusion_train.parquet'"
   ]
  },
  {
   "cell_type": "code",
   "execution_count": 3,
   "metadata": {},
   "outputs": [
    {
     "name": "stdout",
     "output_type": "stream",
     "text": [
      "CPU times: user 34.3 s, sys: 24.6 s, total: 59 s\n",
      "Wall time: 54.5 s\n"
     ]
    }
   ],
   "source": [
    "%%time\n",
    "\n",
    "train = load_dataset(train_data_name)"
   ]
  },
  {
   "cell_type": "code",
   "execution_count": 4,
   "metadata": {},
   "outputs": [
    {
     "data": {
      "text/html": [
       "<div>\n",
       "<style scoped>\n",
       "    .dataframe tbody tr th:only-of-type {\n",
       "        vertical-align: middle;\n",
       "    }\n",
       "\n",
       "    .dataframe tbody tr th {\n",
       "        vertical-align: top;\n",
       "    }\n",
       "\n",
       "    .dataframe thead th {\n",
       "        text-align: right;\n",
       "    }\n",
       "</style>\n",
       "<table border=\"1\" class=\"dataframe\">\n",
       "  <thead>\n",
       "    <tr style=\"text-align: right;\">\n",
       "      <th></th>\n",
       "      <th>receipt_id</th>\n",
       "      <th>receipt_dayofweek</th>\n",
       "      <th>receipt_time</th>\n",
       "      <th>item_name</th>\n",
       "      <th>item_quantity</th>\n",
       "      <th>item_price</th>\n",
       "      <th>item_nds_rate</th>\n",
       "      <th>category_id</th>\n",
       "      <th>brands</th>\n",
       "      <th>weight</th>\n",
       "      <th>receipt_item_count</th>\n",
       "    </tr>\n",
       "  </thead>\n",
       "  <tbody>\n",
       "    <tr>\n",
       "      <th>12154128</th>\n",
       "      <td>6614924</td>\n",
       "      <td>2</td>\n",
       "      <td>22:53</td>\n",
       "      <td>Хачапури ТЦ по-аджарски 180г</td>\n",
       "      <td>1.0</td>\n",
       "      <td>9</td>\n",
       "      <td>-1</td>\n",
       "      <td>84</td>\n",
       "      <td>None</td>\n",
       "      <td>1</td>\n",
       "      <td>1</td>\n",
       "    </tr>\n",
       "    <tr>\n",
       "      <th>19802417</th>\n",
       "      <td>5898392</td>\n",
       "      <td>1</td>\n",
       "      <td>11:23</td>\n",
       "      <td>Муфта ПП d20 шт</td>\n",
       "      <td>4.0</td>\n",
       "      <td>2</td>\n",
       "      <td>6</td>\n",
       "      <td>105</td>\n",
       "      <td>None</td>\n",
       "      <td>1</td>\n",
       "      <td>12</td>\n",
       "    </tr>\n",
       "    <tr>\n",
       "      <th>6535863</th>\n",
       "      <td>5065280</td>\n",
       "      <td>0</td>\n",
       "      <td>16:15</td>\n",
       "      <td>Пакет</td>\n",
       "      <td>1.0</td>\n",
       "      <td>3</td>\n",
       "      <td>1</td>\n",
       "      <td>203</td>\n",
       "      <td>None</td>\n",
       "      <td>1</td>\n",
       "      <td>11</td>\n",
       "    </tr>\n",
       "  </tbody>\n",
       "</table>\n",
       "</div>"
      ],
      "text/plain": [
       "          receipt_id  receipt_dayofweek receipt_time  \\\n",
       "12154128     6614924                  2        22:53   \n",
       "19802417     5898392                  1        11:23   \n",
       "6535863      5065280                  0        16:15   \n",
       "\n",
       "                             item_name  item_quantity  item_price  \\\n",
       "12154128  Хачапури ТЦ по-аджарски 180г            1.0           9   \n",
       "19802417               Муфта ПП d20 шт            4.0           2   \n",
       "6535863                          Пакет            1.0           3   \n",
       "\n",
       "          item_nds_rate  category_id brands  weight  receipt_item_count  \n",
       "12154128             -1           84   None       1                   1  \n",
       "19802417              6          105   None       1                  12  \n",
       "6535863               1          203   None       1                  11  "
      ]
     },
     "execution_count": 4,
     "metadata": {},
     "output_type": "execute_result"
    }
   ],
   "source": [
    "train.sample(3)"
   ]
  },
  {
   "cell_type": "code",
   "execution_count": 5,
   "metadata": {},
   "outputs": [
    {
     "name": "stdout",
     "output_type": "stream",
     "text": [
      "CPU times: user 1.16 s, sys: 214 ms, total: 1.37 s\n",
      "Wall time: 1.37 s\n"
     ]
    }
   ],
   "source": [
    "%%time\n",
    "\n",
    "train_unique = unique_item_name(train)"
   ]
  },
  {
   "cell_type": "code",
   "execution_count": 6,
   "metadata": {},
   "outputs": [
    {
     "data": {
      "text/html": [
       "<div>\n",
       "<style scoped>\n",
       "    .dataframe tbody tr th:only-of-type {\n",
       "        vertical-align: middle;\n",
       "    }\n",
       "\n",
       "    .dataframe tbody tr th {\n",
       "        vertical-align: top;\n",
       "    }\n",
       "\n",
       "    .dataframe thead th {\n",
       "        text-align: right;\n",
       "    }\n",
       "</style>\n",
       "<table border=\"1\" class=\"dataframe\">\n",
       "  <thead>\n",
       "    <tr style=\"text-align: right;\">\n",
       "      <th></th>\n",
       "      <th>item_name</th>\n",
       "      <th>receipt_dayofweek</th>\n",
       "      <th>item_nds_rate</th>\n",
       "      <th>receipt_item_count</th>\n",
       "      <th>item_quantity</th>\n",
       "      <th>item_price</th>\n",
       "      <th>receipt_id</th>\n",
       "      <th>category_id</th>\n",
       "    </tr>\n",
       "  </thead>\n",
       "  <tbody>\n",
       "    <tr>\n",
       "      <th>10671</th>\n",
       "      <td>Бокс универсальный С-56 В, 460</td>\n",
       "      <td>4</td>\n",
       "      <td>1</td>\n",
       "      <td>2</td>\n",
       "      <td>2.0</td>\n",
       "      <td>14</td>\n",
       "      <td>6715883</td>\n",
       "      <td>139</td>\n",
       "    </tr>\n",
       "    <tr>\n",
       "      <th>24519</th>\n",
       "      <td>Мин.вода ОВК ЕССЕНТУКИ №17 пэт 1.5л</td>\n",
       "      <td>0</td>\n",
       "      <td>1</td>\n",
       "      <td>17</td>\n",
       "      <td>1.0</td>\n",
       "      <td>7</td>\n",
       "      <td>1951447</td>\n",
       "      <td>83</td>\n",
       "    </tr>\n",
       "    <tr>\n",
       "      <th>32816</th>\n",
       "      <td>Рассольник Петербургский с мясом (говядина)250...</td>\n",
       "      <td>1</td>\n",
       "      <td>1</td>\n",
       "      <td>6</td>\n",
       "      <td>1.0</td>\n",
       "      <td>7</td>\n",
       "      <td>1627525</td>\n",
       "      <td>71</td>\n",
       "    </tr>\n",
       "  </tbody>\n",
       "</table>\n",
       "</div>"
      ],
      "text/plain": [
       "                                               item_name  receipt_dayofweek  \\\n",
       "10671                     Бокс универсальный С-56 В, 460                  4   \n",
       "24519                Мин.вода ОВК ЕССЕНТУКИ №17 пэт 1.5л                  0   \n",
       "32816  Рассольник Петербургский с мясом (говядина)250...                  1   \n",
       "\n",
       "       item_nds_rate  receipt_item_count  item_quantity  item_price  \\\n",
       "10671              1                   2            2.0          14   \n",
       "24519              1                  17            1.0           7   \n",
       "32816              1                   6            1.0           7   \n",
       "\n",
       "       receipt_id  category_id  \n",
       "10671     6715883          139  \n",
       "24519     1951447           83  \n",
       "32816     1627525           71  "
      ]
     },
     "execution_count": 6,
     "metadata": {},
     "output_type": "execute_result"
    }
   ],
   "source": [
    "train_unique.sample(3)"
   ]
  },
  {
   "cell_type": "code",
   "execution_count": 7,
   "metadata": {},
   "outputs": [
    {
     "name": "stdout",
     "output_type": "stream",
     "text": [
      "CPU times: user 6.47 s, sys: 5.62 s, total: 12.1 s\n",
      "Wall time: 4.42 s\n"
     ]
    }
   ],
   "source": [
    "%%time\n",
    "\n",
    "from sklearn.feature_extraction.text import TfidfVectorizer\n",
    "\n",
    "tfidf = TfidfVectorizer(\n",
    "    max_features=300000, \n",
    "    ngram_range=(3, 5), \n",
    "    analyzer=\"char_wb\", \n",
    ")\n",
    "X_train = tfidf.fit_transform(train_unique.item_name)\n",
    "y_train = train_unique['category_id']"
   ]
  },
  {
   "cell_type": "code",
   "execution_count": 8,
   "metadata": {},
   "outputs": [
    {
     "name": "stdout",
     "output_type": "stream",
     "text": [
      "CPU times: user 111 ms, sys: 539 ms, total: 650 ms\n",
      "Wall time: 30.8 s\n"
     ]
    }
   ],
   "source": [
    "%%time\n",
    "\n",
    "from sklearn.svm import LinearSVC\n",
    "from sklearn.model_selection import cross_val_predict, KFold\n",
    "\n",
    "clf = LinearSVC(C=1)\n",
    "\n",
    "N_JOBS=8\n",
    "folds = KFold(N_JOBS, shuffle=True, random_state=0)\n",
    "predicts = cross_val_predict(clf, X_train, y_train, cv=folds, n_jobs=N_JOBS, method='predict')"
   ]
  },
  {
   "cell_type": "code",
   "execution_count": 9,
   "metadata": {},
   "outputs": [
    {
     "data": {
      "text/plain": [
       "'0.840'"
      ]
     },
     "execution_count": 9,
     "metadata": {},
     "output_type": "execute_result"
    }
   ],
   "source": [
    "from sklearn.metrics import f1_score\n",
    "\n",
    "score = f1_score(y_train, predicts, average='weighted')\n",
    "f'{score:.3f}'"
   ]
  },
  {
   "cell_type": "code",
   "execution_count": 10,
   "metadata": {},
   "outputs": [
    {
     "name": "stdout",
     "output_type": "stream",
     "text": [
      "CPU times: user 23.5 s, sys: 1.54 s, total: 25 s\n",
      "Wall time: 25 s\n"
     ]
    }
   ],
   "source": [
    "%%time\n",
    "\n",
    "_ = clf.fit(X_train, y_train)"
   ]
  },
  {
   "cell_type": "code",
   "execution_count": 11,
   "metadata": {},
   "outputs": [],
   "source": [
    "import pickle\n",
    "\n",
    "pickle.dump(tfidf, open('t1_sub/tfidf', 'wb'))\n",
    "pickle.dump(clf, open('t1_sub/clf_task1', 'wb'))"
   ]
  },
  {
   "cell_type": "code",
   "execution_count": 12,
   "metadata": {},
   "outputs": [],
   "source": [
    "!cp processing.py t1_sub/\n",
    "\n",
    "files_list = [\n",
    "    'tfidf',\n",
    "    'clf_task1',\n",
    "    'script.py',\n",
    "    'processing.py',\n",
    "]"
   ]
  },
  {
   "cell_type": "code",
   "execution_count": 13,
   "metadata": {},
   "outputs": [
    {
     "name": "stdout",
     "output_type": "stream",
     "text": [
      "['tfidf', 'clf_task1', 'script.py', 'processing.py']\n",
      "-rw-r--r-- 1 dmitry.dremov dmitry.dremov 44M мар 15 13:22 t1_sub/submission.zip\r\n"
     ]
    }
   ],
   "source": [
    "import zipfile \n",
    "compression = zipfile.ZIP_DEFLATED\n",
    "\n",
    "submission_name = 't1_sub/submission.zip'\n",
    "with zipfile.ZipFile(submission_name, 'w') as zipObj:\n",
    "    for filename in files_list:\n",
    "        zipObj.write(\n",
    "            f't1_sub/{filename}', \n",
    "            arcname=filename, \n",
    "            compress_type=compression\n",
    "        )\n",
    "    print(zipObj.namelist())\n",
    "\n",
    "!ls -lh {submission_name}"
   ]
  },
  {
   "cell_type": "markdown",
   "metadata": {},
   "source": [
    "# Debug run"
   ]
  },
  {
   "cell_type": "code",
   "execution_count": 14,
   "metadata": {},
   "outputs": [
    {
     "name": "stdout",
     "output_type": "stream",
     "text": [
      "итого 240M\r\n",
      "-rw-r--r-- 1 dmitry.dremov dmitry.dremov 220M мар 15 13:21 clf_task1\r\n",
      "-rw-r--r-- 1 dmitry.dremov dmitry.dremov  21M мар 15 13:21 tfidf\r\n",
      "drwxr-xr-x 2 dmitry.dremov dmitry.dremov 4,0K мар 15 13:22 data\r\n",
      "-rw-r--r-- 1 dmitry.dremov dmitry.dremov  875 мар 15 13:21 processing.py\r\n",
      "-rw-r--r-- 1 dmitry.dremov dmitry.dremov  558 мар 15 13:14 script.py\r\n"
     ]
    }
   ],
   "source": [
    "!rm -r test; mkdir test; cp -r t1_sub/data test/data; cd test; unzip -q ../t1_sub/submission.zip; ls -lhS"
   ]
  },
  {
   "cell_type": "code",
   "execution_count": 15,
   "metadata": {},
   "outputs": [
    {
     "name": "stdout",
     "output_type": "stream",
     "text": [
      "id,pred\r\n",
      "0,77\r\n",
      "1,76\r\n",
      "2,80\r\n",
      "3,82\r\n",
      "4,78\r\n",
      "5,38\r\n",
      "6,71\r\n",
      "7,84\r\n",
      "8,139\r\n"
     ]
    }
   ],
   "source": [
    "!cd test && python3 script.py && head answers.csv"
   ]
  },
  {
   "cell_type": "code",
   "execution_count": null,
   "metadata": {},
   "outputs": [],
   "source": []
  }
 ],
 "metadata": {
  "kernelspec": {
   "display_name": "Python 3",
   "language": "python",
   "name": "python3"
  },
  "language_info": {
   "codemirror_mode": {
    "name": "ipython",
    "version": 3
   },
   "file_extension": ".py",
   "mimetype": "text/x-python",
   "name": "python",
   "nbconvert_exporter": "python",
   "pygments_lexer": "ipython3",
   "version": "3.6.8"
  }
 },
 "nbformat": 4,
 "nbformat_minor": 2
}
